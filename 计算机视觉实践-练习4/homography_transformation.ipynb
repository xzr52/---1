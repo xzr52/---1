{
 "cells": [
  {
   "cell_type": "code",
   "execution_count": 12,
   "id": "6ac48a13",
   "metadata": {
    "scrolled": true
   },
   "outputs": [],
   "source": [
    "import random\n",
    "import numpy as np\n",
    "import cv2"
   ]
  },
  {
   "cell_type": "code",
   "execution_count": 17,
   "id": "7b445af2",
   "metadata": {
    "scrolled": false
   },
   "outputs": [],
   "source": [
    "\n",
    "def get_matches(img1, img2, t):#定义一个函数 get_matches()，输入两张图片和一个阈值 t\n",
    "  sift=cv2.SIFT_create(t)#使用 OpenCV 中的 SIFT 模块来创建一个 SIFT 特征检测器，并指定阈值 t\n",
    "  k1, d1 = sift.detectAndCompute(img1, None)#使用 SIFT 特征检测器对两张图片中的特征点进行检测，并获取它们的描述符\n",
    "  k2, d2 = sift.detectAndCompute(img2, None)\n",
    "  matches = []\n",
    "  pt1 = 0\n",
    "  pt2 = 0\n",
    "    #在两张图片中匹配特征点。对于每个第一张图片中的特征点 d1[i]，在第二张图片的所有特征点 d2 中寻找与它最接近的点，然后将这两个点的坐标加入到 matches 列表中\n",
    "  for i in range(len(d1)):\n",
    "      least = 100\n",
    "      for j in range(len(d2)):\n",
    "          n = np.linalg.norm(d1[i]-d2[j]) #Compute Euclidean Distance\n",
    "          if n < least: \n",
    "              least = n\n",
    "              pt1 = i\n",
    "              pt2 = j\n",
    "      matches.append([k1[pt1].pt,k2[pt2].pt])\n",
    "  return matches\n",
    "def findHomography(matches):#定义一个函数 findHomography()，输入匹配列表 matches\n",
    "    maxliner = []\n",
    "    finalH = None\n",
    "    #初始化变量 maxliner 和 finalH\n",
    "    # r=np.matrix([[0],[0],[0],[0],[0],[0],[0],[0],[1]])\n",
    "\n",
    "    for i in range(1000):\n",
    "        #从匹配列表 matches 中随机选择四个点\n",
    "        c = matches[random.randrange(0, len(matches))]\n",
    "        c1 = matches[random.randrange(0, len(matches))]\n",
    "        c2 = matches[random.randrange(0, len(matches))]\n",
    "        c3 = matches[random.randrange(0, len(matches))]\n",
    "        #将这4个匹配点对应的坐标转化为一个2x9的矩阵M。其中，每个2x9的小矩阵分别由下面两个3x3的小矩阵叠加而成：\n",
    "        \"\"\"\n",
    "         [-x1 -y1 -1 0 0 0 x1*y1 x1*y2 x1]\n",
    " \n",
    "            [0 0 0 -x1 -y1 -1 y1*y2 y2*y2 y2]\n",
    " \n",
    "            其中，(x1, y1)和(x2, y2)分别为一对匹配点的在两幅图像中的坐标。\n",
    "        \"\"\"\n",
    "        # Stack four arrays of 2x9 size\n",
    "        p1 = np.array([-c[0][0], -c[0][1], -1, 0, 0, 0, c[0][0] * c[1][0], c[0][1] * c[1][0], c[1][0]])\n",
    "        p1_1 = np.array([0, 0, 0, -c[0][0], -c[0][1], -1, c[0][0] * c[1][1], c[0][1] * c[1][1], c[1][1]])\n",
    "        y = np.vstack((p1, p1_1))\n",
    "\n",
    "        p2 = np.array([-c1[0][0], -c1[0][1], -1, 0, 0, 0, c1[0][0] * c1[1][0], c1[0][1] * c1[1][0], c1[1][0]])\n",
    "        p2_1 = np.array([0, 0, 0, -c1[0][0], -c1[0][1], -1, c1[0][0] * c1[1][1], c1[0][1] * c1[1][1], c1[1][1]])\n",
    "        y_1 = np.vstack((p2, p2_1))\n",
    "\n",
    "        p3 = np.array([-c2[0][0], -c2[0][1], -1, 0, 0, 0, c2[0][0] * c2[1][0], c2[0][1] * c2[1][0], c2[1][0]])\n",
    "        p3_1 = np.array([0, 0, 0, -c2[0][0], -c2[0][1], -1, c2[0][0] * c2[1][1], c2[0][1] * c2[1][1], c2[1][1]])\n",
    "        y_2 = np.vstack((p3, p3_1))\n",
    "\n",
    "        p4 = np.array([-c3[0][0], -c3[0][1], -1, 0, 0, 0, c3[0][0] * c3[1][0], c3[0][1] * c3[1][0], c3[1][0]])\n",
    "        p4_1 = np.array([0, 0, 0, -c3[0][0], -c3[0][1], -1, c3[0][0] * c3[1][1], c3[0][1] * c3[1][1], c3[1][1]])\n",
    "        y_3 = np.vstack((p4, p4_1))\n",
    "\n",
    "        y_4 = np.array([0, 0, 0, 0, 0, 0, 0, 0, 1])\n",
    "        M = np.vstack((y, y_1, y_2, y_3))\n",
    "        # M=np.matrix(M)\n",
    "        #对矩阵M进行奇异值分解（SVD），并取SVD分解结果中的第8列（编号从0开始）作为单应性矩阵H。注意，这里的H是一个3x3的矩阵，不是一个向量。\n",
    "        u, s, v = np.linalg.svd(M)\n",
    "        H = np.reshape(v[8], (3, 3))  # Get the 3x3 homography matrix\n",
    "\n",
    "        H = (1 / H.item(8)) * H\n",
    "        #对矩阵H进行归一化处理，即将H中所有元素除以其最后一个元素\n",
    "        aliner = []\n",
    "        \"\"\"\n",
    "        于所有匹配点对，利用计算出的单应性矩阵H进行变换，\n",
    "        将第一幅图像中的特征点坐标转换为在第二幅图像中的预测坐标，然后计算预测坐标与实际匹配点在第二幅图像中的坐标之间的距离。\n",
    "        若距离小于一个阈值（这里的阈值为10），则认为该匹配点对是一致的，并将其加入列表aliner中。\n",
    "        \"\"\"\n",
    "        for i in range(len(matches)):\n",
    "            coordinates_H = matches[i]\n",
    "            original_pt = np.transpose(np.matrix([coordinates_H[0][0], coordinates_H[0][1], 1]))\n",
    "            calculated_pt = np.dot(H, original_pt)\n",
    "            calculated_pt = (1 / calculated_pt.item(2)) * calculated_pt\n",
    "            p2 = np.transpose(np.matrix([coordinates_H[1][0], coordinates_H[1][1], 1]))\n",
    "            distance = p2 - calculated_pt\n",
    "            distance = np.linalg.norm(distance)\n",
    "            if distance < 10:\n",
    "                aliner.append(coordinates_H)\n",
    "        #如果列表aliner中的匹配点对数量大于列表maxliner中的数量，则将aliner赋值给maxliner，将H的逆矩阵赋值给homography，并将homography进行归一化处理。\n",
    "        if len(aliner) > len(maxliner):  # Keep Best Homography Matrix and Normalize\n",
    "            maxliner = aliner\n",
    "            homography = H\n",
    "            homography = np.linalg.inv(homography)\n",
    "            homography = (1 / homography[2][\n",
    "                2]) * homography  # Normalize the homography matrix by dividing with last element\n",
    "        #最后，函数将最大列表中的匹配点对用于计算最终的单应性矩阵，并将该矩阵返回\n",
    "    return homography\n",
    "\n"
   ]
  },
  {
   "cell_type": "code",
   "execution_count": 18,
   "id": "a4245fec",
   "metadata": {},
   "outputs": [
    {
     "name": "stdout",
     "output_type": "stream",
     "text": [
      "Getting matches...\n",
      "Finding Homography...\n",
      "[[ 7.83627094e-01  1.60042191e-01  3.05716090e+02]\n",
      " [-1.11962314e-01  9.30269783e-01 -6.65573588e+01]\n",
      " [-1.97235708e-04 -3.54439847e-05  1.00000000e+00]]\n"
     ]
    }
   ],
   "source": [
    "img1 = cv2.imread('image1.jpg')\n",
    "img2 = cv2.imread('image2.jpg')\n",
    "print('Getting matches...')\n",
    "matches = get_matches(img1, img2, 3000)\t#Modify the number of features depending on the size/type of your images\n",
    "print('Finding Homography...')\n",
    "homography = findHomography(matches)\n",
    "print(homography)"
   ]
  },
  {
   "cell_type": "code",
   "execution_count": null,
   "id": "fcc5d90e",
   "metadata": {},
   "outputs": [],
   "source": []
  }
 ],
 "metadata": {
  "kernelspec": {
   "display_name": "Python 3 (ipykernel)",
   "language": "python",
   "name": "python3"
  },
  "language_info": {
   "codemirror_mode": {
    "name": "ipython",
    "version": 3
   },
   "file_extension": ".py",
   "mimetype": "text/x-python",
   "name": "python",
   "nbconvert_exporter": "python",
   "pygments_lexer": "ipython3",
   "version": "3.8.13"
  }
 },
 "nbformat": 4,
 "nbformat_minor": 5
}
